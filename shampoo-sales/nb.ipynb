{
 "cells": [
  {
   "cell_type": "code",
   "execution_count": 1,
   "metadata": {},
   "outputs": [
    {
     "name": "stderr",
     "output_type": "stream",
     "text": [
      "Using TensorFlow backend.\n"
     ]
    }
   ],
   "source": [
    "from math import sqrt\n",
    "\n",
    "import numpy as np\n",
    "import pandas as pd\n",
    "\n",
    "from keras.layers import Dense, LSTM\n",
    "from keras.models import Sequential\n",
    "\n",
    "from matplotlib import pyplot\n",
    "\n",
    "from sklearn.metrics import mean_squared_error as mse\n",
    "from sklearn.preprocessing import MinMaxScaler"
   ]
  },
  {
   "cell_type": "code",
   "execution_count": 2,
   "metadata": {},
   "outputs": [],
   "source": [
    "def parse_date(d):\n",
    "    return pd.datetime.strptime('190' + d, '%Y-%m')"
   ]
  },
  {
   "cell_type": "code",
   "execution_count": 3,
   "metadata": {},
   "outputs": [
    {
     "name": "stdout",
     "output_type": "stream",
     "text": [
      "Month\n",
      "1901-01-01    266.0\n",
      "1901-02-01    145.9\n",
      "1901-03-01    183.1\n",
      "1901-04-01    119.3\n",
      "1901-05-01    180.3\n",
      "Name: Sales of shampoo over a three year period, dtype: float64\n"
     ]
    },
    {
     "data": {
      "image/png": "[encoded data removed]",
      "text/plain": [
       "<matplotlib.figure.Figure at 0x10e4e5110>"
      ]
     },
     "metadata": {},
     "output_type": "display_data"
    }
   ],
   "source": [
    "series = pd.read_csv('sales-of-shampoo.csv', header=0, parse_dates=[0], index_col=0, squeeze=True, date_parser=parse_date)\n",
    "\n",
    "print(series.head())\n",
    "\n",
    "series.plot()\n",
    "pyplot.show()"
   ]
  },
  {
   "cell_type": "code",
   "execution_count": 4,
   "metadata": {},
   "outputs": [],
   "source": [
    "def stationarify(values, intervals=1):\n",
    "    return pd.Series(values[intervals:] - values[:-intervals])\n",
    "\n",
    "\n",
    "def inverse_stationary(history, y_pred, intervals=1):\n",
    "    return y_pred + history[-intervals]"
   ]
  },
  {
   "cell_type": "code",
   "execution_count": 5,
   "metadata": {},
   "outputs": [
    {
     "name": "stdout",
     "output_type": "stream",
     "text": [
      "0    -120.1\n",
      "1      37.2\n",
      "2     -63.8\n",
      "3      61.0\n",
      "4     -11.8\n",
      "5      63.3\n",
      "6      -7.3\n",
      "7     -31.7\n",
      "8     -69.9\n",
      "9     213.6\n",
      "10   -150.6\n",
      "11      8.4\n",
      "12    -44.8\n",
      "13     60.6\n",
      "14     63.2\n",
      "15    -81.9\n",
      "16     95.6\n",
      "17    -61.0\n",
      "18     77.6\n",
      "19    -13.7\n",
      "20    131.7\n",
      "21   -157.1\n",
      "22     77.8\n",
      "23     -2.6\n",
      "24    100.7\n",
      "25   -124.5\n",
      "26    123.4\n",
      "27    -38.0\n",
      "28     36.1\n",
      "29    138.1\n",
      "30   -167.9\n",
      "31    274.4\n",
      "32   -206.7\n",
      "33    106.0\n",
      "34     65.6\n",
      "dtype: float64\n"
     ]
    }
   ],
   "source": [
    "stationary = stationarify(series.values, intervals=1)\n",
    "print stationary"
   ]
  },
  {
   "cell_type": "code",
   "execution_count": 6,
   "metadata": {},
   "outputs": [],
   "source": [
    "def shift(values, steps=1):\n",
    "    df = pd.DataFrame(values)\n",
    "    columns = [df.shift(i) for i in range(1, steps + 1)]\n",
    "    columns.append(df)\n",
    "    df = pd.concat(columns, axis=1)\n",
    "    df.fillna(0, inplace=True)\n",
    "    return df"
   ]
  },
  {
   "cell_type": "code",
   "execution_count": 7,
   "metadata": {},
   "outputs": [
    {
     "name": "stdout",
     "output_type": "stream",
     "text": [
      "        0      0\n",
      "0     0.0 -120.1\n",
      "1  -120.1   37.2\n",
      "2    37.2  -63.8\n",
      "3   -63.8   61.0\n",
      "4    61.0  -11.8\n",
      "5   -11.8   63.3\n",
      "6    63.3   -7.3\n",
      "7    -7.3  -31.7\n",
      "8   -31.7  -69.9\n",
      "9   -69.9  213.6\n",
      "10  213.6 -150.6\n",
      "11 -150.6    8.4\n",
      "12    8.4  -44.8\n",
      "13  -44.8   60.6\n",
      "14   60.6   63.2\n",
      "15   63.2  -81.9\n",
      "16  -81.9   95.6\n",
      "17   95.6  -61.0\n",
      "18  -61.0   77.6\n",
      "19   77.6  -13.7\n",
      "20  -13.7  131.7\n",
      "21  131.7 -157.1\n",
      "22 -157.1   77.8\n",
      "23   77.8   -2.6\n",
      "24   -2.6  100.7\n",
      "25  100.7 -124.5\n",
      "26 -124.5  123.4\n",
      "27  123.4  -38.0\n",
      "28  -38.0   36.1\n",
      "29   36.1  138.1\n",
      "30  138.1 -167.9\n",
      "31 -167.9  274.4\n",
      "32  274.4 -206.7\n",
      "33 -206.7  106.0\n",
      "34  106.0   65.6\n"
     ]
    }
   ],
   "source": [
    "shifted = shift(stationary, steps=1)\n",
    "print shifted"
   ]
  },
  {
   "cell_type": "code",
   "execution_count": 8,
   "metadata": {},
   "outputs": [],
   "source": [
    "train, test = shifted.iloc[:-12], shifted.iloc[-12:]"
   ]
  },
  {
   "cell_type": "code",
   "execution_count": 9,
   "metadata": {},
   "outputs": [],
   "source": [
    "def scale(scaler, df):\n",
    "    return scaler.transform(df.values.reshape(df.shape[0], df.shape[1]))\n",
    "\n",
    "\n",
    "def invert_scale(scaler, X, value):\n",
    "    array = np.array(list(X) + [value])\n",
    "    inverted = scaler.inverse_transform(array.reshape(1, len(array)))\n",
    "    return inverted[0, -1]"
   ]
  },
  {
   "cell_type": "code",
   "execution_count": 10,
   "metadata": {},
   "outputs": [],
   "source": [
    "scaler = MinMaxScaler(feature_range=(-1, 1))\n",
    "scaler = scaler.fit(train)\n",
    "\n",
    "train, test = scale(scaler, train), scale(scaler, test)"
   ]
  },
  {
   "cell_type": "code",
   "execution_count": 11,
   "metadata": {},
   "outputs": [],
   "source": [
    "def fit(train, batch_size, epochs, neurons):\n",
    "    X, y = train[:, 0:-1], train[:, -1]\n",
    "    X = X.reshape(X.shape[0], 1, X.shape[1])\n",
    "\n",
    "    model = Sequential()\n",
    "    model.add(LSTM(neurons, batch_input_shape=(batch_size, X.shape[1], X.shape[2]), stateful=True))\n",
    "    model.add(Dense(1))\n",
    "    model.compile(loss='mean_squared_error', optimizer='adam')\n",
    "\n",
    "    for i in range(epochs):\n",
    "        if i % 50 == 0:\n",
    "            print 'Epoch {}'.format(i + 1)\n",
    "            \n",
    "        model.fit(X, y, epochs=1, batch_size=batch_size, shuffle=False, verbose=0)  # PITFALL: shuffle=False, model.reset_states()\n",
    "        model.reset_states()\n",
    "\n",
    "    return model\n",
    "\n",
    "\n",
    "def predict(model, batch_size, X):\n",
    "    X = X.reshape(1, 1, len(X))\n",
    "    y_pred = model.predict(X, batch_size=batch_size)\n",
    "    return y_pred[0, 0]"
   ]
  },
  {
   "cell_type": "code",
   "execution_count": 12,
   "metadata": {},
   "outputs": [
    {
     "name": "stdout",
     "output_type": "stream",
     "text": [
      "Epoch 1\n",
      "Epoch 51\n",
      "Epoch 101\n",
      "Epoch 151\n",
      "Epoch 201\n",
      "Epoch 251\n",
      "Epoch 301\n",
      "Epoch 351\n",
      "Epoch 401\n",
      "Epoch 451\n",
      "Epoch 501\n",
      "Epoch 551\n",
      "Epoch 601\n",
      "Epoch 651\n",
      "Epoch 701\n",
      "Epoch 751\n",
      "Epoch 801\n",
      "Epoch 851\n",
      "Epoch 901\n",
      "Epoch 951\n"
     ]
    }
   ],
   "source": [
    "model = fit(train, 1, 1000, 4)  # PITFALL: build state!"
   ]
  },
  {
   "cell_type": "code",
   "execution_count": 13,
   "metadata": {},
   "outputs": [
    {
     "data": {
      "text/plain": [
       "array([[-0.785716  ],\n",
       "       [-0.09668589],\n",
       "       [-0.44833079],\n",
       "       [ 0.0844599 ],\n",
       "       [-0.38223404],\n",
       "       [-0.06978911],\n",
       "       [-0.46161225],\n",
       "       [-0.14000559],\n",
       "       [ 0.14877546],\n",
       "       [ 0.57652193],\n",
       "       [-0.99733305],\n",
       "       [ 0.14686477],\n",
       "       [ 0.00965679],\n",
       "       [ 0.40922481],\n",
       "       [-0.05117717],\n",
       "       [-0.34371233],\n",
       "       [ 0.33843893],\n",
       "       [-0.39896035],\n",
       "       [ 0.25373596],\n",
       "       [-0.33074656],\n",
       "       [ 0.04295874],\n",
       "       [-0.88144445],\n",
       "       [ 0.17202318]], dtype=float32)"
      ]
     },
     "execution_count": 13,
     "metadata": {},
     "output_type": "execute_result"
    }
   ],
   "source": [
    "model.predict(train[:, 0].reshape(len(train), 1, 1), batch_size=1)  # PITFALL: build state!"
   ]
  },
  {
   "cell_type": "code",
   "execution_count": 14,
   "metadata": {},
   "outputs": [
    {
     "name": "stdout",
     "output_type": "stream",
     "text": [
      "Month=1, Predicted=283.836024, Expected=339.700000\n",
      "Month=2, Predicted=342.030666, Expected=440.400000\n",
      "Month=3, Predicted=323.461117, Expected=315.900000\n",
      "Month=4, Predicted=371.446422, Expected=439.300000\n",
      "Month=5, Predicted=320.868437, Expected=401.300000\n",
      "Month=6, Predicted=407.202825, Expected=437.400000\n",
      "Month=7, Predicted=406.215896, Expected=575.500000\n",
      "Month=8, Predicted=394.068345, Expected=407.600000\n",
      "Month=9, Predicted=434.093755, Expected=682.000000\n",
      "Month=10, Predicted=396.562736, Expected=475.300000\n",
      "Month=11, Predicted=465.712125, Expected=581.300000\n",
      "Month=12, Predicted=423.069001, Expected=646.900000\n"
     ]
    }
   ],
   "source": [
    "predictions = []\n",
    "\n",
    "for i in range(len(test)):\n",
    "    X, y = test[i, 0:-1], test[i, -1]\n",
    "    \n",
    "    y_pred = predict(model, 1, X)\n",
    "    y_pred = invert_scale(scaler, X, y_pred)\n",
    "    y_pred = inverse_stationary(series.values, y_pred, len(test) + 1 - i)\n",
    "    \n",
    "    predictions.append(y_pred)\n",
    "    expected = series.values[len(train) + i + 1]\n",
    "    \n",
    "    print('Month=%d, Predicted=%f, Expected=%f' % (i + 1, y_pred, expected))"
   ]
  },
  {
   "cell_type": "code",
   "execution_count": 15,
   "metadata": {},
   "outputs": [
    {
     "name": "stdout",
     "output_type": "stream",
     "text": [
      "Test RMSE: 124.096\n"
     ]
    }
   ],
   "source": [
    "rmse = sqrt(mse(series.values[-12:], predictions))\n",
    "print('Test RMSE: %.3f' % rmse)"
   ]
  },
  {
   "cell_type": "code",
   "execution_count": 16,
   "metadata": {},
   "outputs": [
    {
     "data": {
      "image/png": "[encoded data removed]",
      "text/plain": [
       "<matplotlib.figure.Figure at 0x1a266d44d0>"
      ]
     },
     "metadata": {},
     "output_type": "display_data"
    }
   ],
   "source": [
    "pyplot.plot(series.values[-12:])\n",
    "pyplot.plot(predictions)\n",
    "pyplot.show()"
   ]
  },
  {
   "cell_type": "code",
   "execution_count": null,
   "metadata": {},
   "outputs": [],
   "source": []
  }
 ],
 "metadata": {
  "kernelspec": {
   "display_name": "Python 2",
   "language": "python",
   "name": "python2"
  },
  "language_info": {
   "codemirror_mode": {
    "name": "ipython",
    "version": 2
   },
   "file_extension": ".py",
   "mimetype": "text/x-python",
   "name": "python",
   "nbconvert_exporter": "python",
   "pygments_lexer": "ipython2",
   "version": "2.7.14"
  }
 },
 "nbformat": 4,
 "nbformat_minor": 2
}
